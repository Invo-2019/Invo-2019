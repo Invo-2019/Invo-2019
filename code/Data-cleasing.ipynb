{
 "cells": [
  {
   "cell_type": "markdown",
   "metadata": {},
   "source": [
    "### 1.lzl_cleansed"
   ]
  },
  {
   "cell_type": "code",
   "execution_count": 63,
   "metadata": {},
   "outputs": [
    {
     "data": {
      "text/plain": [
       "(76004, 8)"
      ]
     },
     "execution_count": 63,
     "metadata": {},
     "output_type": "execute_result"
    }
   ],
   "source": [
    "import pandas as pd\n",
    "lzl = pd.read_csv(\"./data/lzl_copy1.csv\")\n",
    "lzl.head()\n",
    "lzl_1 = lzl.dropna(subset=['content'])"
   ]
  },
  {
   "cell_type": "markdown",
   "metadata": {},
   "source": [
    "#### 先把lzl的content部分“回复XXX：”这部分删掉，然后再清洗空值\n",
    "实际处理过程：先将content本来为空的清除，之后进行“回复XXX：”，最后进行去除空字符串\n",
    "count:483"
   ]
  },
  {
   "cell_type": "code",
   "execution_count": 112,
   "metadata": {},
   "outputs": [
    {
     "data": {
      "text/plain": [
       "(75801, 9)"
      ]
     },
     "execution_count": 112,
     "metadata": {},
     "output_type": "execute_result"
    }
   ],
   "source": [
    "import re\n",
    "f = lambda x: re.sub('回复.*?[：:]','',str(x))\n",
    "lzl_1[\"Content\"] = lzl[\"content\"].apply(f)\n",
    "lzl_2 = lzl_1[lzl_1.Content!=\"\"]\n",
    "lzl_2.shape"
   ]
  },
  {
   "cell_type": "markdown",
   "metadata": {},
   "source": [
    "#### 去除无意义的符号"
   ]
  },
  {
   "cell_type": "code",
   "execution_count": 124,
   "metadata": {},
   "outputs": [
    {
     "name": "stderr",
     "output_type": "stream",
     "text": [
      "D:\\Program Files\\WPy-3702\\python-3.7.0.amd64\\lib\\site-packages\\ipykernel_launcher.py:2: SettingWithCopyWarning: \n",
      "A value is trying to be set on a copy of a slice from a DataFrame.\n",
      "Try using .loc[row_indexer,col_indexer] = value instead\n",
      "\n",
      "See the caveats in the documentation: http://pandas.pydata.org/pandas-docs/stable/indexing.html#indexing-view-versus-copy\n",
      "  \n"
     ]
    }
   ],
   "source": [
    "F = lambda x: re.sub('[\\u4E00-\\u9FA5]|[a-zA-Z]|[0-9]','1',str(x))\n",
    "lzl_2[\"flag\"] = lzl_2[\"Content\"].apply(F)"
   ]
  },
  {
   "cell_type": "code",
   "execution_count": 136,
   "metadata": {},
   "outputs": [],
   "source": [
    "Bool = lzl_2.flag.str.contains('1')"
   ]
  },
  {
   "cell_type": "code",
   "execution_count": null,
   "metadata": {},
   "outputs": [],
   "source": [
    "lzl_3 = lzl_2[Bool]"
   ]
  },
  {
   "cell_type": "code",
   "execution_count": 154,
   "metadata": {},
   "outputs": [],
   "source": [
    "lzl_3.to_csv(\"./data/lzl_cleansed.csv\",encoding=\"gb18030\")"
   ]
  },
  {
   "cell_type": "code",
   "execution_count": 151,
   "metadata": {},
   "outputs": [],
   "source": [
    "# lzl_2[-Bool]"
   ]
  },
  {
   "cell_type": "code",
   "execution_count": 197,
   "metadata": {},
   "outputs": [
    {
     "data": {
      "text/html": [
       "<div>\n",
       "<style scoped>\n",
       "    .dataframe tbody tr th:only-of-type {\n",
       "        vertical-align: middle;\n",
       "    }\n",
       "\n",
       "    .dataframe tbody tr th {\n",
       "        vertical-align: top;\n",
       "    }\n",
       "\n",
       "    .dataframe thead th {\n",
       "        text-align: right;\n",
       "    }\n",
       "</style>\n",
       "<table border=\"1\" class=\"dataframe\">\n",
       "  <thead>\n",
       "    <tr style=\"text-align: right;\">\n",
       "      <th></th>\n",
       "      <th>id</th>\n",
       "      <th>author</th>\n",
       "      <th>author_id</th>\n",
       "      <th>content</th>\n",
       "      <th>time</th>\n",
       "      <th>post_id</th>\n",
       "      <th>cite_author</th>\n",
       "      <th>cite_author_id</th>\n",
       "      <th>Content</th>\n",
       "      <th>flag</th>\n",
       "    </tr>\n",
       "  </thead>\n",
       "  <tbody>\n",
       "    <tr>\n",
       "      <th>0</th>\n",
       "      <td>102087555830</td>\n",
       "      <td>46928096jkl</td>\n",
       "      <td>3faa34363932383039366a6b6c554b</td>\n",
       "      <td>只喜欢看熊出没，看了几年，听喜欢的歌会有敏感反应，听得懂给妈妈吃点。</td>\n",
       "      <td>42737.66111</td>\n",
       "      <td>102086638015</td>\n",
       "      <td>3岁就很嗨</td>\n",
       "      <td>a88733e5b281e5b0b1e5be88e597a8535e</td>\n",
       "      <td>只喜欢看熊出没，看了几年，听喜欢的歌会有敏感反应，听得懂给妈妈吃点。</td>\n",
       "      <td>1111111，1111，11111111111，11111111。</td>\n",
       "    </tr>\n",
       "    <tr>\n",
       "      <th>1</th>\n",
       "      <td>102087585444</td>\n",
       "      <td>46928096jkl</td>\n",
       "      <td>3faa34363932383039366a6b6c554b</td>\n",
       "      <td>情绪随时变化，有时哭的爬地上，青蛙一样的姿势哭闹</td>\n",
       "      <td>42737.66181</td>\n",
       "      <td>102086638015</td>\n",
       "      <td>3岁就很嗨</td>\n",
       "      <td>a88733e5b281e5b0b1e5be88e597a8535e</td>\n",
       "      <td>情绪随时变化，有时哭的爬地上，青蛙一样的姿势哭闹</td>\n",
       "      <td>111111，1111111，111111111</td>\n",
       "    </tr>\n",
       "    <tr>\n",
       "      <th>2</th>\n",
       "      <td>102087687659</td>\n",
       "      <td>46928096jkl</td>\n",
       "      <td>3faa34363932383039366a6b6c554b</td>\n",
       "      <td>去了半年，没效果，</td>\n",
       "      <td>42737.66389</td>\n",
       "      <td>102087511570</td>\n",
       "      <td>3岁就很嗨</td>\n",
       "      <td>a88733e5b281e5b0b1e5be88e597a8535e</td>\n",
       "      <td>去了半年，没效果，</td>\n",
       "      <td>1111，111，</td>\n",
       "    </tr>\n",
       "    <tr>\n",
       "      <th>3</th>\n",
       "      <td>102091060998</td>\n",
       "      <td>46928096jkl</td>\n",
       "      <td>3faa34363932383039366a6b6c554b</td>\n",
       "      <td>病因啊，</td>\n",
       "      <td>42737.72986</td>\n",
       "      <td>102090870869</td>\n",
       "      <td>松松嘛嘛</td>\n",
       "      <td>4f5ae69dbee69dbee5989be5989bd694</td>\n",
       "      <td>病因啊，</td>\n",
       "      <td>111，</td>\n",
       "    </tr>\n",
       "    <tr>\n",
       "      <th>4</th>\n",
       "      <td>102102181460</td>\n",
       "      <td>3岁就很嗨</td>\n",
       "      <td>a88733e5b281e5b0b1e5be88e597a8535e</td>\n",
       "      <td>回复 46928096jkl ：都是自己的孩子我也是看着孩子心理真难受</td>\n",
       "      <td>42737.93750</td>\n",
       "      <td>102086638015</td>\n",
       "      <td>46928096jkl</td>\n",
       "      <td>3faa34363932383039366a6b6c554b</td>\n",
       "      <td>都是自己的孩子我也是看着孩子心理真难受</td>\n",
       "      <td>1111111111111111111</td>\n",
       "    </tr>\n",
       "  </tbody>\n",
       "</table>\n",
       "</div>"
      ],
      "text/plain": [
       "             id       author                           author_id  \\\n",
       "0  102087555830  46928096jkl      3faa34363932383039366a6b6c554b   \n",
       "1  102087585444  46928096jkl      3faa34363932383039366a6b6c554b   \n",
       "2  102087687659  46928096jkl      3faa34363932383039366a6b6c554b   \n",
       "3  102091060998  46928096jkl      3faa34363932383039366a6b6c554b   \n",
       "4  102102181460        3岁就很嗨  a88733e5b281e5b0b1e5be88e597a8535e   \n",
       "\n",
       "                               content         time       post_id  \\\n",
       "0   只喜欢看熊出没，看了几年，听喜欢的歌会有敏感反应，听得懂给妈妈吃点。  42737.66111  102086638015   \n",
       "1             情绪随时变化，有时哭的爬地上，青蛙一样的姿势哭闹  42737.66181  102086638015   \n",
       "2                            去了半年，没效果，  42737.66389  102087511570   \n",
       "3                                 病因啊，  42737.72986  102090870869   \n",
       "4  回复 46928096jkl ：都是自己的孩子我也是看着孩子心理真难受  42737.93750  102086638015   \n",
       "\n",
       "   cite_author                      cite_author_id  \\\n",
       "0        3岁就很嗨  a88733e5b281e5b0b1e5be88e597a8535e   \n",
       "1        3岁就很嗨  a88733e5b281e5b0b1e5be88e597a8535e   \n",
       "2        3岁就很嗨  a88733e5b281e5b0b1e5be88e597a8535e   \n",
       "3         松松嘛嘛    4f5ae69dbee69dbee5989be5989bd694   \n",
       "4  46928096jkl      3faa34363932383039366a6b6c554b   \n",
       "\n",
       "                              Content                                flag  \n",
       "0  只喜欢看熊出没，看了几年，听喜欢的歌会有敏感反应，听得懂给妈妈吃点。  1111111，1111，11111111111，11111111。  \n",
       "1            情绪随时变化，有时哭的爬地上，青蛙一样的姿势哭闹            111111，1111111，111111111  \n",
       "2                           去了半年，没效果，                           1111，111，  \n",
       "3                                病因啊，                                111，  \n",
       "4                 都是自己的孩子我也是看着孩子心理真难受                 1111111111111111111  "
      ]
     },
     "execution_count": 197,
     "metadata": {},
     "output_type": "execute_result"
    }
   ],
   "source": [
    "lzl_3.head()"
   ]
  },
  {
   "cell_type": "markdown",
   "metadata": {},
   "source": [
    "### 2.post_cleansed"
   ]
  },
  {
   "cell_type": "code",
   "execution_count": 5,
   "metadata": {},
   "outputs": [
    {
     "data": {
      "text/html": [
       "<div>\n",
       "<style scoped>\n",
       "    .dataframe tbody tr th:only-of-type {\n",
       "        vertical-align: middle;\n",
       "    }\n",
       "\n",
       "    .dataframe tbody tr th {\n",
       "        vertical-align: top;\n",
       "    }\n",
       "\n",
       "    .dataframe thead th {\n",
       "        text-align: right;\n",
       "    }\n",
       "</style>\n",
       "<table border=\"1\" class=\"dataframe\">\n",
       "  <thead>\n",
       "    <tr style=\"text-align: right;\">\n",
       "      <th></th>\n",
       "      <th>Unnamed: 0</th>\n",
       "      <th>id</th>\n",
       "      <th>floor</th>\n",
       "      <th>author</th>\n",
       "      <th>content</th>\n",
       "      <th>time</th>\n",
       "      <th>comment_num</th>\n",
       "      <th>level_name</th>\n",
       "      <th>level_id</th>\n",
       "      <th>cur_score</th>\n",
       "      <th>sex</th>\n",
       "      <th>thread_id</th>\n",
       "      <th>user_id</th>\n",
       "      <th>nickname</th>\n",
       "    </tr>\n",
       "  </thead>\n",
       "  <tbody>\n",
       "    <tr>\n",
       "      <th>0</th>\n",
       "      <td>0</td>\n",
       "      <td>102086336036</td>\n",
       "      <td>1</td>\n",
       "      <td>46928096jkl</td>\n",
       "      <td>我儿子六个月就癫痫发作，从此我们没消停过，看不到人生的希望，一直没有放弃治疗，各种折腾，我们...</td>\n",
       "      <td>2017-01-02 15:17:00</td>\n",
       "      <td>0</td>\n",
       "      <td>核心会员</td>\n",
       "      <td>6</td>\n",
       "      <td>137</td>\n",
       "      <td>0</td>\n",
       "      <td>4924185947</td>\n",
       "      <td>3faa34363932383039366a6b6c554b</td>\n",
       "      <td>NaN</td>\n",
       "    </tr>\n",
       "    <tr>\n",
       "      <th>1</th>\n",
       "      <td>1</td>\n",
       "      <td>102086496514</td>\n",
       "      <td>2</td>\n",
       "      <td>杨明轩1984</td>\n",
       "      <td>坚强</td>\n",
       "      <td>2017-01-02 15:22:00</td>\n",
       "      <td>0</td>\n",
       "      <td>高级粉丝</td>\n",
       "      <td>3</td>\n",
       "      <td>23</td>\n",
       "      <td>0</td>\n",
       "      <td>4924185947</td>\n",
       "      <td>c5f2e69da8e6988ee8bda931393834bf67</td>\n",
       "      <td>NaN</td>\n",
       "    </tr>\n",
       "    <tr>\n",
       "      <th>2</th>\n",
       "      <td>2</td>\n",
       "      <td>102086537973</td>\n",
       "      <td>3</td>\n",
       "      <td>46928096jkl</td>\n",
       "      <td>我已经坚强过后忍不住了</td>\n",
       "      <td>2017-01-02 15:23:00</td>\n",
       "      <td>0</td>\n",
       "      <td>核心会员</td>\n",
       "      <td>6</td>\n",
       "      <td>137</td>\n",
       "      <td>0</td>\n",
       "      <td>4924185947</td>\n",
       "      <td>3faa34363932383039366a6b6c554b</td>\n",
       "      <td>NaN</td>\n",
       "    </tr>\n",
       "    <tr>\n",
       "      <th>3</th>\n",
       "      <td>3</td>\n",
       "      <td>102086600562</td>\n",
       "      <td>4</td>\n",
       "      <td>baby等死的鱼</td>\n",
       "      <td>你不坚强你小孩怎么办</td>\n",
       "      <td>2017-01-02 15:25:00</td>\n",
       "      <td>0</td>\n",
       "      <td>正式会员</td>\n",
       "      <td>5</td>\n",
       "      <td>60</td>\n",
       "      <td>1</td>\n",
       "      <td>4924185947</td>\n",
       "      <td>04d462616279e7ad89e6adbbe79a84e9b1bc2126</td>\n",
       "      <td>NaN</td>\n",
       "    </tr>\n",
       "    <tr>\n",
       "      <th>4</th>\n",
       "      <td>4</td>\n",
       "      <td>102086638015</td>\n",
       "      <td>5</td>\n",
       "      <td>3岁就很嗨</td>\n",
       "      <td>现在简单指令会么，刻板行为怎么样。情感方面怎么样。</td>\n",
       "      <td>2017-01-02 15:26:00</td>\n",
       "      <td>6</td>\n",
       "      <td>铁杆会员</td>\n",
       "      <td>8</td>\n",
       "      <td>940</td>\n",
       "      <td>0</td>\n",
       "      <td>4924185947</td>\n",
       "      <td>a88733e5b281e5b0b1e5be88e597a8535e</td>\n",
       "      <td>NaN</td>\n",
       "    </tr>\n",
       "  </tbody>\n",
       "</table>\n",
       "</div>"
      ],
      "text/plain": [
       "   Unnamed: 0            id  floor       author  \\\n",
       "0           0  102086336036      1  46928096jkl   \n",
       "1           1  102086496514      2      杨明轩1984   \n",
       "2           2  102086537973      3  46928096jkl   \n",
       "3           3  102086600562      4     baby等死的鱼   \n",
       "4           4  102086638015      5        3岁就很嗨   \n",
       "\n",
       "                                             content                 time  \\\n",
       "0  我儿子六个月就癫痫发作，从此我们没消停过，看不到人生的希望，一直没有放弃治疗，各种折腾，我们...  2017-01-02 15:17:00   \n",
       "1                                                 坚强  2017-01-02 15:22:00   \n",
       "2                                        我已经坚强过后忍不住了  2017-01-02 15:23:00   \n",
       "3                                         你不坚强你小孩怎么办  2017-01-02 15:25:00   \n",
       "4                          现在简单指令会么，刻板行为怎么样。情感方面怎么样。  2017-01-02 15:26:00   \n",
       "\n",
       "   comment_num level_name  level_id  cur_score  sex   thread_id  \\\n",
       "0            0       核心会员         6        137    0  4924185947   \n",
       "1            0       高级粉丝         3         23    0  4924185947   \n",
       "2            0       核心会员         6        137    0  4924185947   \n",
       "3            0       正式会员         5         60    1  4924185947   \n",
       "4            6       铁杆会员         8        940    0  4924185947   \n",
       "\n",
       "                                    user_id nickname  \n",
       "0            3faa34363932383039366a6b6c554b      NaN  \n",
       "1        c5f2e69da8e6988ee8bda931393834bf67      NaN  \n",
       "2            3faa34363932383039366a6b6c554b      NaN  \n",
       "3  04d462616279e7ad89e6adbbe79a84e9b1bc2126      NaN  \n",
       "4        a88733e5b281e5b0b1e5be88e597a8535e      NaN  "
      ]
     },
     "execution_count": 5,
     "metadata": {},
     "output_type": "execute_result"
    }
   ],
   "source": [
    "import pandas as pd\n",
    "post = pd.read_csv(\"./data/post_content.csv\",encoding = \"gb18030\")\n",
    "post.head()"
   ]
  },
  {
   "cell_type": "code",
   "execution_count": 6,
   "metadata": {},
   "outputs": [
    {
     "data": {
      "text/plain": [
       "False    68320\n",
       "Name: content, dtype: int64"
      ]
     },
     "execution_count": 6,
     "metadata": {},
     "output_type": "execute_result"
    }
   ],
   "source": [
    "# post_1 = post.dropna(subset=['content'])\n",
    "# post_1[\"content\"].isnull().value_counts()\n",
    "# post_1.to_csv(\"./data/post_content_notnull.csv\",encoding = \"gb18030\")"
   ]
  },
  {
   "cell_type": "markdown",
   "metadata": {},
   "source": [
    "#### 手动删除'HTTPMessage' object has no attribute 'getheaders'之后读取csv文件为post_2"
   ]
  },
  {
   "cell_type": "code",
   "execution_count": 3,
   "metadata": {},
   "outputs": [
    {
     "data": {
      "text/plain": [
       "(67975, 15)"
      ]
     },
     "execution_count": 3,
     "metadata": {},
     "output_type": "execute_result"
    }
   ],
   "source": [
    "post_2 = pd.read_csv(\"./data/post_content_notnull.csv\",encoding = \"gb18030\")\n",
    "post_2.shape"
   ]
  },
  {
   "cell_type": "code",
   "execution_count": 14,
   "metadata": {},
   "outputs": [],
   "source": [
    "# post_2 = post_1\n",
    "# post_2.head()"
   ]
  },
  {
   "cell_type": "code",
   "execution_count": 12,
   "metadata": {},
   "outputs": [
    {
     "name": "stderr",
     "output_type": "stream",
     "text": [
      "D:\\Program Files\\WPy-3702\\python-3.7.0.amd64\\lib\\site-packages\\ipykernel_launcher.py:3: SettingWithCopyWarning: \n",
      "A value is trying to be set on a copy of a slice from a DataFrame.\n",
      "Try using .loc[row_indexer,col_indexer] = value instead\n",
      "\n",
      "See the caveats in the documentation: http://pandas.pydata.org/pandas-docs/stable/indexing.html#indexing-view-versus-copy\n",
      "  This is separate from the ipykernel package so we can avoid doing imports until\n"
     ]
    }
   ],
   "source": [
    "import re\n",
    "f = lambda x: re.sub('[\\u4E00-\\u9FA5]|[a-zA-Z]|[0-9]','1',str(x))\n",
    "post_2[\"flag\"] = post_2[\"content\"].apply(f)"
   ]
  },
  {
   "cell_type": "code",
   "execution_count": 21,
   "metadata": {},
   "outputs": [],
   "source": [
    "# Flag = post_2.flag.str.contains('1')\n",
    "# post_3 = post_2[Flag]\n",
    "# post_3.head()"
   ]
  },
  {
   "cell_type": "code",
   "execution_count": null,
   "metadata": {},
   "outputs": [],
   "source": []
  },
  {
   "cell_type": "code",
   "execution_count": 22,
   "metadata": {
    "scrolled": true
   },
   "outputs": [],
   "source": [
    "# post_2[-Flag]\n",
    "post_3.to_csv(\"./data/post_cleansed.csv\",encoding = \"gb18030\")"
   ]
  }
 ],
 "metadata": {
  "kernelspec": {
   "display_name": "Python 3",
   "language": "python",
   "name": "python3"
  },
  "language_info": {
   "codemirror_mode": {
    "name": "ipython",
    "version": 3
   },
   "file_extension": ".py",
   "mimetype": "text/x-python",
   "name": "python",
   "nbconvert_exporter": "python",
   "pygments_lexer": "ipython3",
   "version": "3.7.0"
  }
 },
 "nbformat": 4,
 "nbformat_minor": 2
}
