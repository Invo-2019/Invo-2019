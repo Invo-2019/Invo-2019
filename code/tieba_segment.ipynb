{
 "cells": [
  {
   "cell_type": "code",
   "execution_count": 3,
   "metadata": {},
   "outputs": [
    {
     "data": {
      "text/html": [
       "<div>\n",
       "<style scoped>\n",
       "    .dataframe tbody tr th:only-of-type {\n",
       "        vertical-align: middle;\n",
       "    }\n",
       "\n",
       "    .dataframe tbody tr th {\n",
       "        vertical-align: top;\n",
       "    }\n",
       "\n",
       "    .dataframe thead th {\n",
       "        text-align: right;\n",
       "    }\n",
       "</style>\n",
       "<table border=\"1\" class=\"dataframe\">\n",
       "  <thead>\n",
       "    <tr style=\"text-align: right;\">\n",
       "      <th></th>\n",
       "      <th>id</th>\n",
       "      <th>title</th>\n",
       "      <th>author</th>\n",
       "      <th>reply_num</th>\n",
       "      <th>good</th>\n",
       "      <th>user_id</th>\n",
       "      <th>nickname</th>\n",
       "      <th>page</th>\n",
       "    </tr>\n",
       "  </thead>\n",
       "  <tbody>\n",
       "    <tr>\n",
       "      <th>0</th>\n",
       "      <td>4924185947</td>\n",
       "      <td>儿子现在4岁多自闭症。我儿子六个月就癫痫发作，从此我们没消停过，看不到人生的希望，一直没有放...</td>\n",
       "      <td>46928096jkl</td>\n",
       "      <td>26</td>\n",
       "      <td>0</td>\n",
       "      <td>3faa34363932383039366a6b6c554b</td>\n",
       "      <td>NaN</td>\n",
       "      <td>187</td>\n",
       "    </tr>\n",
       "    <tr>\n",
       "      <th>1</th>\n",
       "      <td>4924253800</td>\n",
       "      <td>孩子。孩子在上幼儿园时，他是全园唯一一个，可以自由活动的孩子，想干嘛干嘛。老师说什么，做什么...</td>\n",
       "      <td>含着星花瓣的鱼</td>\n",
       "      <td>13</td>\n",
       "      <td>0</td>\n",
       "      <td>2a57e590abe79d80e6989fe88ab1e793a3e79a84e9b1bc...</td>\n",
       "      <td>NaN</td>\n",
       "      <td>173</td>\n",
       "    </tr>\n",
       "    <tr>\n",
       "      <th>2</th>\n",
       "      <td>4924996581</td>\n",
       "      <td>我想给我们的家长说说话，请耐心看。来到这个贴吧中，总是看到很多家长在发牢骚，或者在求助安慰，...</td>\n",
       "      <td>嘣嘣0114</td>\n",
       "      <td>0</td>\n",
       "      <td>0</td>\n",
       "      <td>31ace598a3e598a33031313416a4</td>\n",
       "      <td>NaN</td>\n",
       "      <td>187</td>\n",
       "    </tr>\n",
       "    <tr>\n",
       "      <th>3</th>\n",
       "      <td>4925112913</td>\n",
       "      <td>不知道该怎么说。孩子，我不知道该怎么办\\n两岁半了，还不会说话\\n似乎世界和你隔绝了，叫你没...</td>\n",
       "      <td>小2鸡567</td>\n",
       "      <td>7</td>\n",
       "      <td>0</td>\n",
       "      <td>c30de5b08f32e9b8a13536371920</td>\n",
       "      <td>NaN</td>\n",
       "      <td>187</td>\n",
       "    </tr>\n",
       "    <tr>\n",
       "      <th>4</th>\n",
       "      <td>4925127215</td>\n",
       "      <td>深圳龙华聪明兔“兔妈妈爱宝贝欢闹圣诞”活动分享。当圣诞节的脚步走近，平安的钟声回响在耳畔的时...</td>\n",
       "      <td>岛梦雅忆</td>\n",
       "      <td>9</td>\n",
       "      <td>0</td>\n",
       "      <td>891ae5b29be6a2a6e99b85e5bf869531</td>\n",
       "      <td>NaN</td>\n",
       "      <td>186</td>\n",
       "    </tr>\n",
       "  </tbody>\n",
       "</table>\n",
       "</div>"
      ],
      "text/plain": [
       "           id                                              title       author  \\\n",
       "0  4924185947  儿子现在4岁多自闭症。我儿子六个月就癫痫发作，从此我们没消停过，看不到人生的希望，一直没有放...  46928096jkl   \n",
       "1  4924253800  孩子。孩子在上幼儿园时，他是全园唯一一个，可以自由活动的孩子，想干嘛干嘛。老师说什么，做什么...      含着星花瓣的鱼   \n",
       "2  4924996581  我想给我们的家长说说话，请耐心看。来到这个贴吧中，总是看到很多家长在发牢骚，或者在求助安慰，...       嘣嘣0114   \n",
       "3  4925112913  不知道该怎么说。孩子，我不知道该怎么办\\n两岁半了，还不会说话\\n似乎世界和你隔绝了，叫你没...       小2鸡567   \n",
       "4  4925127215  深圳龙华聪明兔“兔妈妈爱宝贝欢闹圣诞”活动分享。当圣诞节的脚步走近，平安的钟声回响在耳畔的时...         岛梦雅忆   \n",
       "\n",
       "   reply_num  good                                            user_id  \\\n",
       "0         26     0                     3faa34363932383039366a6b6c554b   \n",
       "1         13     0  2a57e590abe79d80e6989fe88ab1e793a3e79a84e9b1bc...   \n",
       "2          0     0                       31ace598a3e598a33031313416a4   \n",
       "3          7     0                       c30de5b08f32e9b8a13536371920   \n",
       "4          9     0                   891ae5b29be6a2a6e99b85e5bf869531   \n",
       "\n",
       "  nickname  page  \n",
       "0      NaN   187  \n",
       "1      NaN   173  \n",
       "2      NaN   187  \n",
       "3      NaN   187  \n",
       "4      NaN   186  "
      ]
     },
     "execution_count": 3,
     "metadata": {},
     "output_type": "execute_result"
    }
   ],
   "source": [
    "import pandas as pd\n",
    "df = pd.read_csv(\"tieba.csv\",encoding = \"gb18030\")\n",
    "df.head()"
   ]
  },
  {
   "cell_type": "markdown",
   "metadata": {},
   "source": [
    "### 1.pynlpir"
   ]
  },
  {
   "cell_type": "code",
   "execution_count": 3,
   "metadata": {},
   "outputs": [],
   "source": [
    "import pynlpir\n",
    "# import jieba\n",
    "pynlpir.open()"
   ]
  },
  {
   "cell_type": "code",
   "execution_count": 70,
   "metadata": {},
   "outputs": [
    {
     "data": {
      "text/plain": [
       "'我 档 位 ！'"
      ]
     },
     "execution_count": 70,
     "metadata": {},
     "output_type": "execute_result"
    }
   ],
   "source": [
    "s = '我档位！'\n",
    "segments = pynlpir.segment(s,pos_tagging=False, pos_names='all')\n",
    "segments\n",
    "s = \" \".join(segments)\n",
    "s\n",
    "def seg(s):\n",
    "    segments = pynlpir.segment(s,pos_tagging=False, pos_names='all')  \n",
    "    s = \" \".join(segments)\n",
    "    return s\n",
    "seg( '我档位！')"
   ]
  },
  {
   "cell_type": "code",
   "execution_count": 80,
   "metadata": {},
   "outputs": [],
   "source": [
    "pdf[\"nlpir\"] = pdf[\"content\"].apply(seg)\n",
    "pdf.head()"
   ]
  },
  {
   "cell_type": "code",
   "execution_count": 44,
   "metadata": {},
   "outputs": [],
   "source": [
    "import pandas as pd\n",
    "import pymysql\n",
    "\n",
    "# 设置列名与数据对齐\n",
    "pd.set_option('display.unicode.ambiguous_as_wide', True)\n",
    "pd.set_option('display.unicode.east_asian_width', True)\n",
    "# 显示10列\n",
    "pd.set_option('display.max_columns', 10)\n",
    "# 显示10行\n",
    "pd.set_option('display.max_rows', 10)\n",
    "# 设置显示宽度为500,这样就不会在IDE中换行了\n",
    "pd.set_option('display.width', 2000)\n",
    "\n",
    "# 读取数据\n",
    "conn = pymysql.connect(host='localhost', user='root', password='696726', port=3306, db='tieba', charset='utf8mb4')\n",
    "cursor = conn.cursor()\n",
    "sql = \"select * from post\"\n",
    "db = pd.read_sql(sql, conn)\n",
    "# links = [link for link in db.content]\n",
    "# len(links)"
   ]
  },
  {
   "cell_type": "code",
   "execution_count": 57,
   "metadata": {},
   "outputs": [],
   "source": [
    "# db.to_csv(\"post_content.csv\",encoding = \"gb18030\")\n",
    "# db"
   ]
  },
  {
   "cell_type": "code",
   "execution_count": 75,
   "metadata": {},
   "outputs": [
    {
     "data": {
      "text/plain": [
       "(1200, 2)"
      ]
     },
     "execution_count": 75,
     "metadata": {},
     "output_type": "execute_result"
    }
   ],
   "source": [
    "# post = db.sample(n=1200,random_state=0)\n",
    "# post.head()\n",
    "# pdf = post[[\"id\",\"content\"]]\n",
    "pdf.shape"
   ]
  },
  {
   "cell_type": "code",
   "execution_count": 43,
   "metadata": {},
   "outputs": [
    {
     "name": "stdout",
     "output_type": "stream",
     "text": [
      "['江西', '丰城', '畜牧', '兽医', '学校', '，', '报', '过', '名', '不', '去', '学习', '，', '二', '年', '给', '兽医', '大专', '学历', '证书', '，', '可以', '直接', '考', '执业', '兽医', '师', '证', '，', '是', '真', '的', '假', '的', '？', '请', '知道', '的', '回答', '一下', '。']\n"
     ]
    }
   ],
   "source": [
    "links[0:2]\n",
    "for item in links[3:4]:\n",
    "    seg = pynlpir.segment(item,pos_tagging=False, pos_names='child')\n",
    "    print(seg)"
   ]
  },
  {
   "cell_type": "code",
   "execution_count": null,
   "metadata": {},
   "outputs": [],
   "source": []
  },
  {
   "cell_type": "markdown",
   "metadata": {},
   "source": [
    "### 2.jieba"
   ]
  },
  {
   "cell_type": "code",
   "execution_count": 31,
   "metadata": {},
   "outputs": [],
   "source": [
    "import jieba"
   ]
  },
  {
   "cell_type": "code",
   "execution_count": 81,
   "metadata": {},
   "outputs": [
    {
     "data": {
      "text/plain": [
       "'模拟 都 挂 在 速度 与 档位 不 匹配 ！'"
      ]
     },
     "execution_count": 81,
     "metadata": {},
     "output_type": "execute_result"
    }
   ],
   "source": [
    "def seg(s):\n",
    "    segments = jieba.lcut(s) \n",
    "    s = \" \".join(segments)\n",
    "    return s\n",
    "seg(\"模拟都挂在速度与档位不匹配！\")"
   ]
  },
  {
   "cell_type": "code",
   "execution_count": 83,
   "metadata": {},
   "outputs": [],
   "source": [
    "pdf[\"jieba\"] = pdf[\"content\"].apply(seg)\n",
    "pdf.head()"
   ]
  },
  {
   "cell_type": "code",
   "execution_count": 49,
   "metadata": {},
   "outputs": [
    {
     "name": "stdout",
     "output_type": "stream",
     "text": [
      "['有人', '知道', '吗', '？']\n",
      "['呼吁', '国家', '，', '关注', '自闭症', '家庭', '！', '没有', '自闭症', '孩子', '的', '家庭', '不能', '理解', '我们', '的', '无助', '和', '绝望', '，', '我们', '总会', '老去', '，', '等', '我们', '都', '不', '在', '了', '，', '孩子', '们', '怎么办', '？', '希望', '大家', '一起', '努力', '，', '也', '希望', '有关', '部门', '关心', '自闭症', '孩子', '！', '！', '我们', '都', '没有勇气', '去', '死', '！', '！', '！']\n",
      "['模拟', '都', '挂', '在', '速度', '与', '档位', '不', '匹配', '！', '考试', '车档', '很', '轻', '！', '挂', '3', '档', '几次', '都', '到', '5', '或', '1', '档', '！', '好伤', '！', '明天', '考试', '怎么办', '！', '练', '教练车', '几乎', '没挂', '错过', '！']\n",
      "['江西', '丰城', '畜牧', '兽医', '学校', '，', '报过', '名不去', '学习', '，', '二年', '给', '兽医', '大专', '学历证书', '，', '可以', '直接', '考', '执业', '兽医', '师证', '，', '是', '真的假', '的', '？', '请', '知道', '的', '回答', '一下', '。']\n"
     ]
    }
   ],
   "source": [
    "for item in links[0:4]:\n",
    "    words = jieba.lcut(item) \n",
    "    print(words)"
   ]
  },
  {
   "cell_type": "code",
   "execution_count": 64,
   "metadata": {},
   "outputs": [
    {
     "data": {
      "text/plain": [
       "'成都市金牛区教育局：四川七彩阳光康复服务中心是征询四川省人社厅、省老龄办、省残联等相关部门意见，经四川省民政厅审核批准成立的民办非组织，是一所集康复评定、训练、融合教育、康复工程、职业重建、助老托养等服务为一体的省级社会公益服务机构。中心于2018年底成功申请成都慈善总会《成都市2018年社会组织发展专项基金项目&lt;金牛区特殊儿童融合教育的体系建设&gt;》，希望通过金牛区特殊儿童融合教育的体系建设，建立金牛区特殊教育资源中心，统筹区内特殊儿童及家庭、特殊学校、普通小学以及残联、各街道办事处等政府部门，为金牛区404名特殊儿童乃至更多的特殊儿童、家庭及各教育机构提供专业化、个性化、系统化的融合教育模式。金牛区融合教育课程体系（略） 上课地点：金牛区盛金路159号四川七彩阳光康复服务中心二楼会议室 上课时间：集中培训+实操培训 学习费用：全免（课时费+资料费+午餐及糕点） 学习对象：金牛区普通小学资源中心教师各1名，共计40名。    四川七彩阳光康复服务中心      2019年2月21日'"
      ]
     },
     "execution_count": 64,
     "metadata": {},
     "output_type": "execute_result"
    }
   ],
   "source": [
    "links[5]"
   ]
  },
  {
   "cell_type": "markdown",
   "metadata": {},
   "source": [
    "### 3.pyltp"
   ]
  },
  {
   "cell_type": "code",
   "execution_count": 1,
   "metadata": {},
   "outputs": [],
   "source": [
    "#在服务器上运行"
   ]
  },
  {
   "cell_type": "markdown",
   "metadata": {},
   "source": [
    "### 4.thulac"
   ]
  },
  {
   "cell_type": "code",
   "execution_count": 37,
   "metadata": {},
   "outputs": [
    {
     "name": "stdout",
     "output_type": "stream",
     "text": [
      "Model loaded succeed\n",
      "我 爱 北京 安门\n"
     ]
    }
   ],
   "source": [
    "import thulac\n",
    "\n",
    "thu1 = thulac.thulac(seg_only=True)  #默认模式\n",
    "text = thu1.cut(\"我爱北京安门\", text=True)  #进行一句话分词\n",
    "print(text)"
   ]
  },
  {
   "cell_type": "code",
   "execution_count": 39,
   "metadata": {},
   "outputs": [
    {
     "data": {
      "text/plain": [
       "str"
      ]
     },
     "execution_count": 39,
     "metadata": {},
     "output_type": "execute_result"
    }
   ],
   "source": [
    "type(text)"
   ]
  },
  {
   "cell_type": "code",
   "execution_count": 75,
   "metadata": {},
   "outputs": [
    {
     "name": "stdout",
     "output_type": "stream",
     "text": [
      "可_v 执业_v 兽医_n 师证_v 大专_n 学历_n\n"
     ]
    }
   ],
   "source": [
    "text = thu1.cut(\"可的可以执业兽医师证的大专学历\",text=True)  #进行一句话分词\n",
    "print(text)"
   ]
  },
  {
   "cell_type": "code",
   "execution_count": 84,
   "metadata": {},
   "outputs": [
    {
     "data": {
      "text/plain": [
       "'模拟 都 挂 在 速度 与 档位 不 匹配 ！'"
      ]
     },
     "execution_count": 84,
     "metadata": {},
     "output_type": "execute_result"
    }
   ],
   "source": [
    "def seg(s):\n",
    "    segments = thu1.cut(s, text=True)\n",
    "#     s = \",\".join(segments)\n",
    "    return segments\n",
    "seg(\"模拟都挂在速度与档位不匹配！\")"
   ]
  },
  {
   "cell_type": "code",
   "execution_count": 86,
   "metadata": {},
   "outputs": [
    {
     "name": "stderr",
     "output_type": "stream",
     "text": [
      "D:\\Program Files\\WPy-3702\\python-3.7.0.amd64\\lib\\site-packages\\ipykernel_launcher.py:1: SettingWithCopyWarning: \n",
      "A value is trying to be set on a copy of a slice from a DataFrame.\n",
      "Try using .loc[row_indexer,col_indexer] = value instead\n",
      "\n",
      "See the caveats in the documentation: http://pandas.pydata.org/pandas-docs/stable/indexing.html#indexing-view-versus-copy\n",
      "  \"\"\"Entry point for launching an IPython kernel.\n"
     ]
    },
    {
     "data": {
      "text/html": [
       "<div>\n",
       "<style scoped>\n",
       "    .dataframe tbody tr th:only-of-type {\n",
       "        vertical-align: middle;\n",
       "    }\n",
       "\n",
       "    .dataframe tbody tr th {\n",
       "        vertical-align: top;\n",
       "    }\n",
       "\n",
       "    .dataframe thead th {\n",
       "        text-align: right;\n",
       "    }\n",
       "</style>\n",
       "<table border=\"1\" class=\"dataframe\">\n",
       "  <thead>\n",
       "    <tr style=\"text-align: right;\">\n",
       "      <th></th>\n",
       "      <th>id</th>\n",
       "      <th>content</th>\n",
       "      <th>nlpir</th>\n",
       "      <th>jieba</th>\n",
       "      <th>thulac</th>\n",
       "    </tr>\n",
       "  </thead>\n",
       "  <tbody>\n",
       "    <tr>\n",
       "      <th>1003</th>\n",
       "      <td>105098076327</td>\n",
       "      <td>0一6岁可能康复，中医</td>\n",
       "      <td>0 一 6 岁 可能 康复 ， 中医</td>\n",
       "      <td>0 一 6 岁 可能 康复 ， 中医</td>\n",
       "      <td>0 一 6 岁 可能 康复 ， 中医</td>\n",
       "    </tr>\n",
       "    <tr>\n",
       "      <th>24105</th>\n",
       "      <td>119155418362</td>\n",
       "      <td>顶</td>\n",
       "      <td>顶</td>\n",
       "      <td>顶</td>\n",
       "      <td>顶</td>\n",
       "    </tr>\n",
       "    <tr>\n",
       "      <th>3481</th>\n",
       "      <td>108007720342</td>\n",
       "      <td>注意一：不要重复指令 \\n\\n　　行为训练法是以结构性的形式进行。在实施指令的开始阶段，家长...</td>\n",
       "      <td>注意 一： 不 要 重复 指令   \\n　 　 行为 训练 法 是 以 结构性 的 形式 进...</td>\n",
       "      <td>注意 一 ： 不要 重复 指令   \\n \\n 　 　 行为 训练 法是 以 结构性 的 形...</td>\n",
       "      <td>注意 一 ： 不 要 重复 指令\\n　 行为 训练法 是 以 结构性 的 形式 进行 。 在...</td>\n",
       "    </tr>\n",
       "    <tr>\n",
       "      <th>57535</th>\n",
       "      <td>124370187117</td>\n",
       "      <td>加个微信吧，2岁3个月，诊断高度怀疑自闭症，ASD值32</td>\n",
       "      <td>加 个 微信 吧 ， 2 岁 3 个 月 ， 诊断 高度 怀疑 自 闭 症 ， ASD 值 ...</td>\n",
       "      <td>加个 微信 吧 ， 2 岁 3 个 月 ， 诊断 高度 怀疑 自闭症 ， ASD 值 32...</td>\n",
       "      <td>加个 微信 吧 ， 2 岁 3 个 月 ， 诊断 高度 怀疑 自 闭症 ， A SD值 32...</td>\n",
       "    </tr>\n",
       "    <tr>\n",
       "      <th>58127</th>\n",
       "      <td>124429176281</td>\n",
       "      <td>有需求吗</td>\n",
       "      <td>有 需求 吗</td>\n",
       "      <td>有 需求 吗</td>\n",
       "      <td>有 需求 吗</td>\n",
       "    </tr>\n",
       "  </tbody>\n",
       "</table>\n",
       "</div>"
      ],
      "text/plain": [
       "                 id                                                                                     content                                                                        nlpir                                                                      jieba                                                                         thulac\n",
       "1003   105098076327                               0一6岁可能康复，中医                                                                 0 一 6 岁 可能 康复 ， 中医                                                  0 一 6 岁 可能 康复 ， 中医                                                0 一 6 岁 可能 康复 ， 中医                            \n",
       "24105  119155418362                                                 顶                                                                                          顶                                                                           顶                                                                         顶                            \n",
       "3481   108007720342  注意一：不要重复指令 \\n\\n　　行为训练法是以结构性的形式进行。在实施指令的开始阶段，家长...  注意 一： 不 要 重复 指令   \\n　 　 行为 训练 法 是 以 结构性 的 形式 进...  注意 一 ： 不要 重复 指令   \\n \\n 　 　 行为 训练 法是 以 结构性 的 形...  注意 一 ： 不 要 重复 指令\\n　 行为 训练法 是 以 结构性 的 形式 进行 。 在...\n",
       "57535  124370187117  加个微信吧，2岁3个月，诊断高度怀疑自闭症，ASD值32                                           加 个 微信 吧 ， 2 岁 3 个 月 ， 诊断 高度 怀疑 自 闭 症 ， ASD 值 ...       加个 微信 吧 ， 2 岁 3 个 月 ， 诊断 高度 怀疑 自闭症 ， ASD 值 32....     加个 微信 吧 ， 2 岁 3 个 月 ， 诊断 高度 怀疑 自 闭症 ， A SD值 32...       \n",
       "58127  124429176281                                           有需求吗                                                                                  有 需求 吗                                                                   有 需求 吗                                                                 有 需求 吗                            "
      ]
     },
     "execution_count": 86,
     "metadata": {},
     "output_type": "execute_result"
    }
   ],
   "source": [
    "pdf[\"thulac\"] =pdf[\"content\"].apply(seg)\n",
    "pdf.head()"
   ]
  },
  {
   "cell_type": "code",
   "execution_count": 87,
   "metadata": {},
   "outputs": [],
   "source": [
    "pdf.to_csv(\"post_seg.csv\",encoding = \"gb18030\")"
   ]
  },
  {
   "cell_type": "code",
   "execution_count": null,
   "metadata": {},
   "outputs": [],
   "source": []
  },
  {
   "cell_type": "code",
   "execution_count": 2,
   "metadata": {},
   "outputs": [
    {
     "data": {
      "text/plain": [
       "'赞'"
      ]
     },
     "execution_count": 2,
     "metadata": {},
     "output_type": "execute_result"
    }
   ],
   "source": [
    "from langconv import *\n",
    "import sys\n",
    "# 转换繁体到简体\n",
    "def cht_to_chs(line):\n",
    "    line = Converter('zh-hans').convert(line)\n",
    "    line.encode('utf-8')\n",
    "    return line\n",
    "\n",
    "cht_to_chs(\"讚\")"
   ]
  },
  {
   "cell_type": "markdown",
   "metadata": {},
   "source": [
    "#### SVM分词"
   ]
  },
  {
   "cell_type": "code",
   "execution_count": 3,
   "metadata": {},
   "outputs": [
    {
     "data": {
      "text/html": [
       "<div>\n",
       "<style scoped>\n",
       "    .dataframe tbody tr th:only-of-type {\n",
       "        vertical-align: middle;\n",
       "    }\n",
       "\n",
       "    .dataframe tbody tr th {\n",
       "        vertical-align: top;\n",
       "    }\n",
       "\n",
       "    .dataframe thead th {\n",
       "        text-align: right;\n",
       "    }\n",
       "</style>\n",
       "<table border=\"1\" class=\"dataframe\">\n",
       "  <thead>\n",
       "    <tr style=\"text-align: right;\">\n",
       "      <th></th>\n",
       "      <th>Unnamed: 0</th>\n",
       "      <th>content</th>\n",
       "      <th>Final</th>\n",
       "    </tr>\n",
       "  </thead>\n",
       "  <tbody>\n",
       "    <tr>\n",
       "      <th>0</th>\n",
       "      <td>15649</td>\n",
       "      <td>天呐都那么早</td>\n",
       "      <td>0</td>\n",
       "    </tr>\n",
       "    <tr>\n",
       "      <th>1</th>\n",
       "      <td>10676</td>\n",
       "      <td>我女儿 一岁半会叫妈妈 爸爸 奶奶 阿姨 会说要和不要这些 会听指令 比如把垃圾拿去垃圾桶 ...</td>\n",
       "      <td>0</td>\n",
       "    </tr>\n",
       "    <tr>\n",
       "      <th>2</th>\n",
       "      <td>32170</td>\n",
       "      <td>楼主，想请教你怎么教宝宝应名呀？</td>\n",
       "      <td>0</td>\n",
       "    </tr>\n",
       "    <tr>\n",
       "      <th>3</th>\n",
       "      <td>27484</td>\n",
       "      <td>有这两点，基本就可以确诊为自闭症了吧？1）3岁不会说话。 2）不应名。</td>\n",
       "      <td>0</td>\n",
       "    </tr>\n",
       "    <tr>\n",
       "      <th>4</th>\n",
       "      <td>35979</td>\n",
       "      <td>这几天宝宝学会大小便提醒大人了，想拉臭臭时会说粑粑，想尿尿会说尿尿，宝贝会在不经意间给我惊喜...</td>\n",
       "      <td>0</td>\n",
       "    </tr>\n",
       "  </tbody>\n",
       "</table>\n",
       "</div>"
      ],
      "text/plain": [
       "   Unnamed: 0                                            content  Final\n",
       "0       15649                                             天呐都那么早      0\n",
       "1       10676  我女儿 一岁半会叫妈妈 爸爸 奶奶 阿姨 会说要和不要这些 会听指令 比如把垃圾拿去垃圾桶 ...      0\n",
       "2       32170                                   楼主，想请教你怎么教宝宝应名呀？      0\n",
       "3       27484                有这两点，基本就可以确诊为自闭症了吧？1）3岁不会说话。 2）不应名。      0\n",
       "4       35979  这几天宝宝学会大小便提醒大人了，想拉臭臭时会说粑粑，想尿尿会说尿尿，宝贝会在不经意间给我惊喜...      0"
      ]
     },
     "execution_count": 3,
     "metadata": {},
     "output_type": "execute_result"
    }
   ],
   "source": [
    "import pandas as pd\n",
    "df = pd.read_csv(\"./data/Coding_first_round_1000_results.csv\")\n",
    "df.head()"
   ]
  },
  {
   "cell_type": "code",
   "execution_count": 4,
   "metadata": {},
   "outputs": [],
   "source": [
    "import jieba\n",
    "def seg(s):\n",
    "    segments = jieba.lcut(s) \n",
    "    s = \" \".join(segments)\n",
    "    return s"
   ]
  },
  {
   "cell_type": "code",
   "execution_count": 40,
   "metadata": {},
   "outputs": [],
   "source": [
    "import re\n",
    "pattern=\"[\\u4e00-\\u9fa5]+\" \n",
    "regex = re.compile(pattern)\n",
    "def cn_only(s): \n",
    "    result = regex.findall(s)\n",
    "    te = \" \".join([wd for wd in result])\n",
    "    return te"
   ]
  },
  {
   "cell_type": "code",
   "execution_count": 32,
   "metadata": {},
   "outputs": [],
   "source": [
    "with open(\"cnstopword.txt\", 'r', encoding='utf-8-sig') as f:\n",
    "    stoptext = f.read()\n",
    "    stoplist = stoptext.split(';\\n')\n",
    "    cnstopwords = set(stoplist)\n",
    "stopwords = pd.read_csv(\"./data/stop.csv\",encoding = \"gb18030\")\n",
    "stopword = set(stopwords[\"stopwords\"])"
   ]
  },
  {
   "cell_type": "code",
   "execution_count": 44,
   "metadata": {},
   "outputs": [
    {
     "data": {
      "text/plain": [
       "746"
      ]
     },
     "execution_count": 44,
     "metadata": {},
     "output_type": "execute_result"
    }
   ],
   "source": [
    "len(stopword)"
   ]
  },
  {
   "cell_type": "code",
   "execution_count": 17,
   "metadata": {},
   "outputs": [],
   "source": [
    "from langconv import *\n",
    "import sys\n",
    "# 转换繁体到简体\n",
    "def cht_to_chs(line):\n",
    "    line = Converter('zh-hans').convert(line)\n",
    "    line.encode('utf-8')\n",
    "    return line"
   ]
  },
  {
   "cell_type": "code",
   "execution_count": 49,
   "metadata": {},
   "outputs": [],
   "source": [
    "from zhon.hanzi import punctuation\n",
    "import nltk\n",
    "import pandas as pd\n",
    "import string\n",
    "import re\n",
    "# nltk.download()\n",
    "cnexclude = set(punctuation)#cn标点符号\n",
    "enexclude = set(string.punctuation)#eng标点符号\n",
    "exclude = cnexclude | enexclude\n",
    "# stop = cnstopwords | stopword\n",
    "stop = stopword\n",
    "\n",
    "#数据清理\n",
    "def clean(doc_seg):\n",
    "    chs = cht_to_chs(doc_seg)\n",
    "#     eng_free = cn_only(chs)\n",
    "    stop_free = \" \".join([wd for wd in chs.split() if wd not in stop])# \n",
    "    punc_free = \" \".join(ch for ch in stop_free.split() if ch not in exclude)\n",
    "#     eng_free = re.sub('[a-zA-Z0-9]','',punc_free) #remove english string\n",
    "    cleaned = punc_free.strip() #remove space\n",
    "    return cleaned"
   ]
  },
  {
   "cell_type": "code",
   "execution_count": 50,
   "metadata": {},
   "outputs": [
    {
     "data": {
      "text/plain": [
       "746"
      ]
     },
     "execution_count": 50,
     "metadata": {},
     "output_type": "execute_result"
    }
   ],
   "source": [
    "len(stop)"
   ]
  },
  {
   "cell_type": "code",
   "execution_count": 51,
   "metadata": {},
   "outputs": [
    {
     "data": {
      "text/html": [
       "<div>\n",
       "<style scoped>\n",
       "    .dataframe tbody tr th:only-of-type {\n",
       "        vertical-align: middle;\n",
       "    }\n",
       "\n",
       "    .dataframe tbody tr th {\n",
       "        vertical-align: top;\n",
       "    }\n",
       "\n",
       "    .dataframe thead th {\n",
       "        text-align: right;\n",
       "    }\n",
       "</style>\n",
       "<table border=\"1\" class=\"dataframe\">\n",
       "  <thead>\n",
       "    <tr style=\"text-align: right;\">\n",
       "      <th></th>\n",
       "      <th>Unnamed: 0</th>\n",
       "      <th>content</th>\n",
       "      <th>Final</th>\n",
       "      <th>content_seg</th>\n",
       "      <th>content_clean</th>\n",
       "      <th>content_clean_chs_only</th>\n",
       "      <th>content_clean_chs_only_s</th>\n",
       "      <th>content_clean_s</th>\n",
       "    </tr>\n",
       "  </thead>\n",
       "  <tbody>\n",
       "    <tr>\n",
       "      <th>0</th>\n",
       "      <td>15649</td>\n",
       "      <td>天呐都那么早</td>\n",
       "      <td>0</td>\n",
       "      <td>天呐 都 那么 早</td>\n",
       "      <td>天呐 早</td>\n",
       "      <td>天呐 早</td>\n",
       "      <td>天呐 早</td>\n",
       "      <td>天呐 早</td>\n",
       "    </tr>\n",
       "    <tr>\n",
       "      <th>1</th>\n",
       "      <td>10676</td>\n",
       "      <td>我女儿 一岁半会叫妈妈 爸爸 奶奶 阿姨 会说要和不要这些 会听指令 比如把垃圾拿去垃圾桶 ...</td>\n",
       "      <td>0</td>\n",
       "      <td>我 女儿   一岁 半会 叫 妈妈   爸爸   奶奶   阿姨   会 说 要 和 不要 ...</td>\n",
       "      <td>女儿 一岁 半会 妈妈 爸爸 奶奶 阿姨 说 听 指令 垃圾 垃圾桶 奶瓶 床上 拿来 冲奶...</td>\n",
       "      <td>女儿 一岁 半会 妈妈 爸爸 奶奶 阿姨 说 听 指令 垃圾 垃圾桶 奶瓶 床上 拿来 冲奶...</td>\n",
       "      <td>女儿 一岁 半会 妈妈 爸爸 奶奶 阿姨 会 说 不要 会 听 指令 垃圾 垃圾桶 奶瓶 床...</td>\n",
       "      <td>女儿 一岁 半会 妈妈 爸爸 奶奶 阿姨 会 说 不要 会 听 指令 垃圾 垃圾桶 奶瓶 床...</td>\n",
       "    </tr>\n",
       "    <tr>\n",
       "      <th>2</th>\n",
       "      <td>32170</td>\n",
       "      <td>楼主，想请教你怎么教宝宝应名呀？</td>\n",
       "      <td>0</td>\n",
       "      <td>楼主 ， 想 请教 你 怎么 教 宝宝 应名 呀 ？</td>\n",
       "      <td>楼主 想 请教 教 宝宝 应名</td>\n",
       "      <td>楼主 想 请教 教 宝宝 应名</td>\n",
       "      <td>楼主 想 请教 教 宝宝 应名</td>\n",
       "      <td>楼主 想 请教 教 宝宝 应名</td>\n",
       "    </tr>\n",
       "    <tr>\n",
       "      <th>3</th>\n",
       "      <td>27484</td>\n",
       "      <td>有这两点，基本就可以确诊为自闭症了吧？1）3岁不会说话。 2）不应名。</td>\n",
       "      <td>0</td>\n",
       "      <td>有 这两点 ， 基本 就 可以 确诊 为 自闭症 了 吧 ？ 1 ） 3 岁 不会 说话 。...</td>\n",
       "      <td>这两点 确诊 自闭症 岁 说话 不应名</td>\n",
       "      <td>这两点 确诊 自闭症 岁 说话 不应名</td>\n",
       "      <td>这两点 基本 确诊 自闭症 岁 不会 说话 不应名</td>\n",
       "      <td>这两点 基本 确诊 自闭症 岁 不会 说话 不应名</td>\n",
       "    </tr>\n",
       "    <tr>\n",
       "      <th>4</th>\n",
       "      <td>35979</td>\n",
       "      <td>这几天宝宝学会大小便提醒大人了，想拉臭臭时会说粑粑，想尿尿会说尿尿，宝贝会在不经意间给我惊喜...</td>\n",
       "      <td>0</td>\n",
       "      <td>这 几天 宝宝 学会 大小便 提醒 大人 了 ， 想拉 臭臭 时会 说 粑 粑 ， 想尿尿会...</td>\n",
       "      <td>几天 宝宝 学会 大小便 提醒 大人 想拉 臭臭 时会 说 粑 粑 想尿尿会 说 尿 尿 宝...</td>\n",
       "      <td>几天 宝宝 学会 大小便 提醒 大人 想拉 臭臭 时会 说 粑 粑 想尿尿会 说 尿 尿 宝...</td>\n",
       "      <td>几天 宝宝 学会 大小便 提醒 大人 想拉 臭臭 时会 说 粑 粑 想尿尿会 说 尿 尿 宝...</td>\n",
       "      <td>几天 宝宝 学会 大小便 提醒 大人 想拉 臭臭 时会 说 粑 粑 想尿尿会 说 尿 尿 宝...</td>\n",
       "    </tr>\n",
       "  </tbody>\n",
       "</table>\n",
       "</div>"
      ],
      "text/plain": [
       "   Unnamed: 0                                            content  Final  \\\n",
       "0       15649                                             天呐都那么早      0   \n",
       "1       10676  我女儿 一岁半会叫妈妈 爸爸 奶奶 阿姨 会说要和不要这些 会听指令 比如把垃圾拿去垃圾桶 ...      0   \n",
       "2       32170                                   楼主，想请教你怎么教宝宝应名呀？      0   \n",
       "3       27484                有这两点，基本就可以确诊为自闭症了吧？1）3岁不会说话。 2）不应名。      0   \n",
       "4       35979  这几天宝宝学会大小便提醒大人了，想拉臭臭时会说粑粑，想尿尿会说尿尿，宝贝会在不经意间给我惊喜...      0   \n",
       "\n",
       "                                         content_seg  \\\n",
       "0                                          天呐 都 那么 早   \n",
       "1  我 女儿   一岁 半会 叫 妈妈   爸爸   奶奶   阿姨   会 说 要 和 不要 ...   \n",
       "2                         楼主 ， 想 请教 你 怎么 教 宝宝 应名 呀 ？   \n",
       "3  有 这两点 ， 基本 就 可以 确诊 为 自闭症 了 吧 ？ 1 ） 3 岁 不会 说话 。...   \n",
       "4  这 几天 宝宝 学会 大小便 提醒 大人 了 ， 想拉 臭臭 时会 说 粑 粑 ， 想尿尿会...   \n",
       "\n",
       "                                       content_clean  \\\n",
       "0                                               天呐 早   \n",
       "1  女儿 一岁 半会 妈妈 爸爸 奶奶 阿姨 说 听 指令 垃圾 垃圾桶 奶瓶 床上 拿来 冲奶...   \n",
       "2                                    楼主 想 请教 教 宝宝 应名   \n",
       "3                                这两点 确诊 自闭症 岁 说话 不应名   \n",
       "4  几天 宝宝 学会 大小便 提醒 大人 想拉 臭臭 时会 说 粑 粑 想尿尿会 说 尿 尿 宝...   \n",
       "\n",
       "                              content_clean_chs_only  \\\n",
       "0                                               天呐 早   \n",
       "1  女儿 一岁 半会 妈妈 爸爸 奶奶 阿姨 说 听 指令 垃圾 垃圾桶 奶瓶 床上 拿来 冲奶...   \n",
       "2                                    楼主 想 请教 教 宝宝 应名   \n",
       "3                                这两点 确诊 自闭症 岁 说话 不应名   \n",
       "4  几天 宝宝 学会 大小便 提醒 大人 想拉 臭臭 时会 说 粑 粑 想尿尿会 说 尿 尿 宝...   \n",
       "\n",
       "                            content_clean_chs_only_s  \\\n",
       "0                                               天呐 早   \n",
       "1  女儿 一岁 半会 妈妈 爸爸 奶奶 阿姨 会 说 不要 会 听 指令 垃圾 垃圾桶 奶瓶 床...   \n",
       "2                                    楼主 想 请教 教 宝宝 应名   \n",
       "3                          这两点 基本 确诊 自闭症 岁 不会 说话 不应名   \n",
       "4  几天 宝宝 学会 大小便 提醒 大人 想拉 臭臭 时会 说 粑 粑 想尿尿会 说 尿 尿 宝...   \n",
       "\n",
       "                                     content_clean_s  \n",
       "0                                               天呐 早  \n",
       "1  女儿 一岁 半会 妈妈 爸爸 奶奶 阿姨 会 说 不要 会 听 指令 垃圾 垃圾桶 奶瓶 床...  \n",
       "2                                    楼主 想 请教 教 宝宝 应名  \n",
       "3                          这两点 基本 确诊 自闭症 岁 不会 说话 不应名  \n",
       "4  几天 宝宝 学会 大小便 提醒 大人 想拉 臭臭 时会 说 粑 粑 想尿尿会 说 尿 尿 宝...  "
      ]
     },
     "execution_count": 51,
     "metadata": {},
     "output_type": "execute_result"
    }
   ],
   "source": [
    "# df[\"content_seg\"] = df.content.apply(seg)\n",
    "df[\"content_clean_s\"] = df.content_seg.apply(clean)\n",
    "df.head()"
   ]
  },
  {
   "cell_type": "code",
   "execution_count": 52,
   "metadata": {},
   "outputs": [],
   "source": [
    "df.to_csv(\"./data/svm_seg_clean.csv\",encoding = \"gb18030\")"
   ]
  }
 ],
 "metadata": {
  "kernelspec": {
   "display_name": "Python 3",
   "language": "python",
   "name": "python3"
  },
  "language_info": {
   "codemirror_mode": {
    "name": "ipython",
    "version": 3
   },
   "file_extension": ".py",
   "mimetype": "text/x-python",
   "name": "python",
   "nbconvert_exporter": "python",
   "pygments_lexer": "ipython3",
   "version": "3.7.0"
  }
 },
 "nbformat": 4,
 "nbformat_minor": 2
}
